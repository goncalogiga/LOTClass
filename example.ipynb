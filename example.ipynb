{
 "cells": [
  {
   "cell_type": "code",
   "execution_count": 1,
   "id": "fbe06197-db3c-447d-93b0-2eec9f225716",
   "metadata": {},
   "outputs": [],
   "source": [
    "import pandas as pd\n",
    "\n",
    "# Loading the dataset\n",
    "train_set = pd.read_csv(\"data/mails.csv\")\n",
    "test_set = pd.read_csv(\"data/mails_labeled.csv\")"
   ]
  },
  {
   "cell_type": "code",
   "execution_count": 2,
   "id": "ad29c068-c682-40cf-9854-b08248791db2",
   "metadata": {},
   "outputs": [
    {
     "name": "stderr",
     "output_type": "stream",
     "text": [
      "[nltk_data] Downloading package stopwords to\n",
      "[nltk_data]     /home/goncalo/nltk_data...\n",
      "[nltk_data]   Package stopwords is already up-to-date!\n"
     ]
    },
    {
     "data": {
      "text/plain": [
       "True"
      ]
     },
     "execution_count": 2,
     "metadata": {},
     "output_type": "execute_result"
    }
   ],
   "source": [
    "import nltk\n",
    "nltk.download('stopwords')"
   ]
  },
  {
   "cell_type": "code",
   "execution_count": 9,
   "id": "1425a900-40a6-4a1c-80a5-88d1cb43e37e",
   "metadata": {},
   "outputs": [],
   "source": [
    "from LOTClass.LOTClassModel import LOTClassifier\n",
    "from LOTClass.config import LOTClassConfig\n",
    "\n",
    "labels = ['Déménagement', 'Relève compteur', 'Réclamation',\n",
    "    'Contrat Coordonnées personnelles', 'Facture Paiement', 'Espace client']\n",
    "\n",
    "args = LOTClassConfig(overwrite_dataset=True, train_batch_size=128, gpus=1, \n",
    "                      test_file=\"test_file.txt\", test_label_file=\"test_label_file.txt\", pretrained_lm=\"camembert-base\")\n",
    "\n",
    "model = LOTClassifier(path=\"datasets/mails/\", labels=labels, \n",
    "                      args=args)\n",
    "\n",
    "X_test = test_set[\"Corps\"]\n",
    "y_test = test_set[\"Catégorie\"]\n",
    "\n",
    "model.build_test_dataset(list(X_test), list(y_test))"
   ]
  },
  {
   "cell_type": "code",
   "execution_count": 4,
   "id": "c95b8998-c9ff-42d4-be6d-0823e76b4b45",
   "metadata": {},
   "outputs": [
    {
     "data": {
      "text/html": [
       "<div>\n",
       "<style scoped>\n",
       "    .dataframe tbody tr th:only-of-type {\n",
       "        vertical-align: middle;\n",
       "    }\n",
       "\n",
       "    .dataframe tbody tr th {\n",
       "        vertical-align: top;\n",
       "    }\n",
       "\n",
       "    .dataframe thead th {\n",
       "        text-align: right;\n",
       "    }\n",
       "</style>\n",
       "<table border=\"1\" class=\"dataframe\">\n",
       "  <thead>\n",
       "    <tr style=\"text-align: right;\">\n",
       "      <th></th>\n",
       "      <th>Corps</th>\n",
       "      <th>Catégorie</th>\n",
       "    </tr>\n",
       "  </thead>\n",
       "  <tbody>\n",
       "    <tr>\n",
       "      <th>0</th>\n",
       "      <td>Email d'origine : Formulaire de contact   Dive...</td>\n",
       "      <td>6</td>\n",
       "    </tr>\n",
       "    <tr>\n",
       "      <th>1</th>\n",
       "      <td>Email d'origine : Re  Votre demande (1).msg\\n\\...</td>\n",
       "      <td>6</td>\n",
       "    </tr>\n",
       "    <tr>\n",
       "      <th>2</th>\n",
       "      <td>Email d'origine : RESILIATION ABONNEMENT ES.ms...</td>\n",
       "      <td>6</td>\n",
       "    </tr>\n",
       "    <tr>\n",
       "      <th>3</th>\n",
       "      <td>Email d'origine : Formulaire de contact   Dive...</td>\n",
       "      <td>6</td>\n",
       "    </tr>\n",
       "    <tr>\n",
       "      <th>4</th>\n",
       "      <td>Email d'origine : Contrtas éléctricité dans mo...</td>\n",
       "      <td>6</td>\n",
       "    </tr>\n",
       "    <tr>\n",
       "      <th>...</th>\n",
       "      <td>...</td>\n",
       "      <td>...</td>\n",
       "    </tr>\n",
       "    <tr>\n",
       "      <th>574</th>\n",
       "      <td>Email d'origine : Re  votre demande .msg\\n\\nbo...</td>\n",
       "      <td>6</td>\n",
       "    </tr>\n",
       "    <tr>\n",
       "      <th>575</th>\n",
       "      <td>Email d'origine : RE  Votre Facture électroniq...</td>\n",
       "      <td>6</td>\n",
       "    </tr>\n",
       "    <tr>\n",
       "      <th>576</th>\n",
       "      <td>Email d'origine : Resilier mon contrat d elect...</td>\n",
       "      <td>6</td>\n",
       "    </tr>\n",
       "    <tr>\n",
       "      <th>577</th>\n",
       "      <td>Email d'origine : Contrat nº987068.msg\\n\\nbonj...</td>\n",
       "      <td>6</td>\n",
       "    </tr>\n",
       "    <tr>\n",
       "      <th>578</th>\n",
       "      <td>Email d'origine : IBAN de M VICTOR HAAR.msg\\n\\...</td>\n",
       "      <td>6</td>\n",
       "    </tr>\n",
       "  </tbody>\n",
       "</table>\n",
       "<p>579 rows × 2 columns</p>\n",
       "</div>"
      ],
      "text/plain": [
       "                                                 Corps  Catégorie\n",
       "0    Email d'origine : Formulaire de contact   Dive...          6\n",
       "1    Email d'origine : Re  Votre demande (1).msg\\n\\...          6\n",
       "2    Email d'origine : RESILIATION ABONNEMENT ES.ms...          6\n",
       "3    Email d'origine : Formulaire de contact   Dive...          6\n",
       "4    Email d'origine : Contrtas éléctricité dans mo...          6\n",
       "..                                                 ...        ...\n",
       "574  Email d'origine : Re  votre demande .msg\\n\\nbo...          6\n",
       "575  Email d'origine : RE  Votre Facture électroniq...          6\n",
       "576  Email d'origine : Resilier mon contrat d elect...          6\n",
       "577  Email d'origine : Contrat nº987068.msg\\n\\nbonj...          6\n",
       "578  Email d'origine : IBAN de M VICTOR HAAR.msg\\n\\...          6\n",
       "\n",
       "[579 rows x 2 columns]"
      ]
     },
     "execution_count": 4,
     "metadata": {},
     "output_type": "execute_result"
    }
   ],
   "source": [
    "train_set"
   ]
  },
  {
   "cell_type": "code",
   "execution_count": 5,
   "id": "b458fa8e-323c-4d63-9f63-3a43c9b3296c",
   "metadata": {},
   "outputs": [
    {
     "name": "stdout",
     "output_type": "stream",
     "text": [
      "['déménagement']\n",
      "37     Email d'origine : information déménagement.msg...\n",
      "171    Email d'origine : résiliation du contrat  suit...\n",
      "280    Email d'origine : résiliation de contrat élect...\n",
      "284    Email d'origine : Résiliation contrat suite à ...\n",
      "487    Email d'origine : résiliation du contrat  suit...\n",
      "Name: Corps, dtype: object\n",
      "['relève', 'compteur']\n",
      "2      Email d'origine : RESILIATION ABONNEMENT ES.ms...\n",
      "6      Email d'origine : RE  Votre facture (5).msg\\n\\...\n",
      "8      Email d'origine : résiliation contrat.msg\\n\\n?...\n",
      "13     Email d'origine : Contrat electricite No 11835...\n",
      "15     Email d'origine : Formulaire de contact   Dive...\n",
      "                             ...                        \n",
      "566    Email d'origine : RE  Votre demande (62).msg\\n...\n",
      "569    Email d'origine : Résiliation de contrat Nr 10...\n",
      "573    Email d'origine : Formulaire de contact   Dive...\n",
      "574    Email d'origine : Re  votre demande .msg\\n\\nbo...\n",
      "575    Email d'origine : RE  Votre Facture électroniq...\n",
      "Name: Corps, Length: 229, dtype: object\n",
      "['réclamation']\n",
      "Series([], Name: Corps, dtype: object)\n",
      "['contrat', 'coordonnées', 'personnelles']\n",
      "0      Email d'origine : Formulaire de contact   Dive...\n",
      "1      Email d'origine : Re  Votre demande (1).msg\\n\\...\n",
      "2      Email d'origine : RESILIATION ABONNEMENT ES.ms...\n",
      "4      Email d'origine : Contrtas éléctricité dans mo...\n",
      "5      Email d'origine : Contrat délectricité No   5...\n",
      "                             ...                        \n",
      "568    Email d'origine : Résiliation facture d'électr...\n",
      "569    Email d'origine : Résiliation de contrat Nr 10...\n",
      "571    Email d'origine : création compte impossible.m...\n",
      "575    Email d'origine : RE  Votre Facture électroniq...\n",
      "576    Email d'origine : Resilier mon contrat d elect...\n",
      "Name: Corps, Length: 379, dtype: object\n",
      "['facture', 'paiement']\n",
      "0      Email d'origine : Formulaire de contact   Dive...\n",
      "1      Email d'origine : Re  Votre demande (1).msg\\n\\...\n",
      "6      Email d'origine : RE  Votre facture (5).msg\\n\\...\n",
      "10     Email d'origine : Formulaire de contact   Dive...\n",
      "13     Email d'origine : Contrat electricite No 11835...\n",
      "                             ...                        \n",
      "568    Email d'origine : Résiliation facture d'électr...\n",
      "569    Email d'origine : Résiliation de contrat Nr 10...\n",
      "572    Email d'origine : coupure de courant  à mon ap...\n",
      "575    Email d'origine : RE  Votre Facture électroniq...\n",
      "577    Email d'origine : Contrat nº987068.msg\\n\\nbonj...\n",
      "Name: Corps, Length: 237, dtype: object\n",
      "['espace', 'client']\n",
      "1      Email d'origine : Re  Votre demande (1).msg\\n\\...\n",
      "4      Email d'origine : Contrtas éléctricité dans mo...\n",
      "7      Email d'origine : 14 rue de Neuhaeusel ROPPENH...\n",
      "30     Email d'origine : Contrat 1217430      4 Rue T...\n",
      "31     Email d'origine : Re  Votre demande (6).msg\\n\\...\n",
      "                             ...                        \n",
      "557    Email d'origine : Formulaire de contact   Dive...\n",
      "561    Email d'origine : 5 raisons pourquoi NIU.msg\\n...\n",
      "562    Email d'origine : Formulaire de contact   Dive...\n",
      "566    Email d'origine : RE  Votre demande (62).msg\\n...\n",
      "574    Email d'origine : Re  votre demande .msg\\n\\nbo...\n",
      "Name: Corps, Length: 118, dtype: object\n"
     ]
    }
   ],
   "source": [
    "labels_dict = {0: ['déménagement'], 1: ['relève', 'compteur'], 2: ['réclamation'], 3: ['contrat', 'coordonnées', 'personnelles'], 4: ['facture', 'paiement'], 5: ['espace', 'client']}\n",
    "\n",
    "label_containers = []\n",
    "for _, label_voc in labels_dict.items():\n",
    "    print(label_voc)\n",
    "    df = train_set[train_set[\"Corps\"].str.contains('|'.join(label_voc))][\"Corps\"]\n",
    "    print(df)\n",
    "    label_containers.append(df)"
   ]
  },
  {
   "cell_type": "code",
   "execution_count": 10,
   "id": "fb75963a-923a-4bec-96f3-2708a778c042",
   "metadata": {},
   "outputs": [
    {
     "name": "stdout",
     "output_type": "stream",
     "text": [
      "Effective training batch size: 128\n"
     ]
    },
    {
     "name": "stderr",
     "output_type": "stream",
     "text": [
      "Downloading: 100%|██████████| 792k/792k [00:00<00:00, 1.26MB/s]\n",
      "Downloading: 100%|██████████| 1.33M/1.33M [00:00<00:00, 1.66MB/s]\n"
     ]
    },
    {
     "name": "stdout",
     "output_type": "stream",
     "text": [
      "Label names used for each class are: {0: ['d', 'é', 'm', 'é', 'n', 'a', 'g', 'e', 'm', 'e', 'n', 't'], 1: ['r', 'e', 'l', 'è', 'v', 'e', 'c', 'o', 'm', 'p', 't', 'e', 'u', 'r'], 2: ['r', 'é', 'c', 'l', 'a', 'm', 'a', 't', 'i', 'o', 'n'], 3: ['c', 'o', 'n', 't', 'r', 'a', 't', 'c', 'o', 'o', 'r', 'd', 'o', 'n', 'n', 'é', 'e', 's', 'p', 'e', 'r', 's', 'o', 'n', 'n', 'e', 'l', 'l', 'e', 's'], 4: ['f', 'a', 'c', 't', 'u', 'r', 'e', 'p', 'a', 'i', 'e', 'm', 'e', 'n', 't'], 5: ['e', 's', 'p', 'a', 'c', 'e', 'c', 'l', 'i', 'e', 'n', 't']}\n"
     ]
    },
    {
     "ename": "AssertionError",
     "evalue": "\"é\" used as the label name by multiple classes!",
     "output_type": "error",
     "traceback": [
      "\u001b[0;31m---------------------------------------------------------------------------\u001b[0m",
      "\u001b[0;31mAssertionError\u001b[0m                            Traceback (most recent call last)",
      "\u001b[0;32m<ipython-input-10-5270273047cb>\u001b[0m in \u001b[0;36m<module>\u001b[0;34m\u001b[0m\n\u001b[0;32m----> 1\u001b[0;31m \u001b[0mmodel\u001b[0m\u001b[0;34m.\u001b[0m\u001b[0mfit\u001b[0m\u001b[0;34m(\u001b[0m\u001b[0mlist\u001b[0m\u001b[0;34m(\u001b[0m\u001b[0mtrain_set\u001b[0m\u001b[0;34m[\u001b[0m\u001b[0;34m\"Corps\"\u001b[0m\u001b[0;34m]\u001b[0m\u001b[0;34m)\u001b[0m\u001b[0;34m)\u001b[0m\u001b[0;34m\u001b[0m\u001b[0;34m\u001b[0m\u001b[0m\n\u001b[0m",
      "\u001b[0;32m~/TPS_3A/LOTClass/LOTClass/LOTClassModel.py\u001b[0m in \u001b[0;36mfit\u001b[0;34m(self, X, y)\u001b[0m\n\u001b[1;32m     73\u001b[0m                 \u001b[0mf\u001b[0m\u001b[0;34m.\u001b[0m\u001b[0mwrite\u001b[0m\u001b[0;34m(\u001b[0m\u001b[0mself\u001b[0m\u001b[0;34m.\u001b[0m\u001b[0mpreatreatement_fn\u001b[0m\u001b[0;34m(\u001b[0m\u001b[0mtext\u001b[0m\u001b[0;34m)\u001b[0m \u001b[0;34m+\u001b[0m \u001b[0;34m'\\n'\u001b[0m\u001b[0;34m)\u001b[0m\u001b[0;34m\u001b[0m\u001b[0;34m\u001b[0m\u001b[0m\n\u001b[1;32m     74\u001b[0m \u001b[0;34m\u001b[0m\u001b[0m\n\u001b[0;32m---> 75\u001b[0;31m         \u001b[0mself\u001b[0m\u001b[0;34m.\u001b[0m\u001b[0mtrainer\u001b[0m \u001b[0;34m=\u001b[0m \u001b[0mLOTClassTrainer\u001b[0m\u001b[0;34m(\u001b[0m\u001b[0mself\u001b[0m\u001b[0;34m.\u001b[0m\u001b[0margs\u001b[0m\u001b[0;34m)\u001b[0m\u001b[0;34m\u001b[0m\u001b[0;34m\u001b[0m\u001b[0m\n\u001b[0m\u001b[1;32m     76\u001b[0m         \u001b[0;31m# Construct category vocabulary\u001b[0m\u001b[0;34m\u001b[0m\u001b[0;34m\u001b[0m\u001b[0;34m\u001b[0m\u001b[0m\n\u001b[1;32m     77\u001b[0m         self.trainer.category_vocabulary(top_pred_num=self.args.top_pred_num, \n",
      "\u001b[0;32m~/TPS_3A/LOTClass/LOTClass/trainer.py\u001b[0m in \u001b[0;36m__init__\u001b[0;34m(self, args)\u001b[0m\n\u001b[1;32m     49\u001b[0m         \u001b[0mself\u001b[0m\u001b[0;34m.\u001b[0m\u001b[0mmask_id\u001b[0m \u001b[0;34m=\u001b[0m \u001b[0mself\u001b[0m\u001b[0;34m.\u001b[0m\u001b[0mvocab\u001b[0m\u001b[0;34m[\u001b[0m\u001b[0mself\u001b[0m\u001b[0;34m.\u001b[0m\u001b[0mtokenizer\u001b[0m\u001b[0;34m.\u001b[0m\u001b[0mmask_token\u001b[0m\u001b[0;34m]\u001b[0m\u001b[0;34m\u001b[0m\u001b[0;34m\u001b[0m\u001b[0m\n\u001b[1;32m     50\u001b[0m         \u001b[0mself\u001b[0m\u001b[0;34m.\u001b[0m\u001b[0minv_vocab\u001b[0m \u001b[0;34m=\u001b[0m \u001b[0;34m{\u001b[0m\u001b[0mk\u001b[0m\u001b[0;34m:\u001b[0m\u001b[0mv\u001b[0m \u001b[0;32mfor\u001b[0m \u001b[0mv\u001b[0m\u001b[0;34m,\u001b[0m \u001b[0mk\u001b[0m \u001b[0;32min\u001b[0m \u001b[0mself\u001b[0m\u001b[0;34m.\u001b[0m\u001b[0mvocab\u001b[0m\u001b[0;34m.\u001b[0m\u001b[0mitems\u001b[0m\u001b[0;34m(\u001b[0m\u001b[0;34m)\u001b[0m\u001b[0;34m}\u001b[0m\u001b[0;34m\u001b[0m\u001b[0;34m\u001b[0m\u001b[0m\n\u001b[0;32m---> 51\u001b[0;31m         \u001b[0mself\u001b[0m\u001b[0;34m.\u001b[0m\u001b[0mread_label_names\u001b[0m\u001b[0;34m(\u001b[0m\u001b[0margs\u001b[0m\u001b[0;34m.\u001b[0m\u001b[0mdataset_dir\u001b[0m\u001b[0;34m,\u001b[0m \u001b[0margs\u001b[0m\u001b[0;34m.\u001b[0m\u001b[0mlabel_names_file\u001b[0m\u001b[0;34m)\u001b[0m\u001b[0;34m\u001b[0m\u001b[0;34m\u001b[0m\u001b[0m\n\u001b[0m\u001b[1;32m     52\u001b[0m         \u001b[0mself\u001b[0m\u001b[0;34m.\u001b[0m\u001b[0mnum_class\u001b[0m \u001b[0;34m=\u001b[0m \u001b[0mlen\u001b[0m\u001b[0;34m(\u001b[0m\u001b[0mself\u001b[0m\u001b[0;34m.\u001b[0m\u001b[0mlabel_name_dict\u001b[0m\u001b[0;34m)\u001b[0m\u001b[0;34m\u001b[0m\u001b[0;34m\u001b[0m\u001b[0m\n\u001b[1;32m     53\u001b[0m         self.model = LOTClassModel.from_pretrained(self.pretrained_lm,\n",
      "\u001b[0;32m~/TPS_3A/LOTClass/LOTClass/trainer.py\u001b[0m in \u001b[0;36mread_label_names\u001b[0;34m(self, dataset_dir, label_name_file)\u001b[0m\n\u001b[1;32m    217\u001b[0m         \u001b[0;32mfor\u001b[0m \u001b[0mclass_idx\u001b[0m \u001b[0;32min\u001b[0m \u001b[0mself\u001b[0m\u001b[0;34m.\u001b[0m\u001b[0mlabel_name_dict\u001b[0m\u001b[0;34m:\u001b[0m\u001b[0;34m\u001b[0m\u001b[0;34m\u001b[0m\u001b[0m\n\u001b[1;32m    218\u001b[0m             \u001b[0;32mfor\u001b[0m \u001b[0mword\u001b[0m \u001b[0;32min\u001b[0m \u001b[0mself\u001b[0m\u001b[0;34m.\u001b[0m\u001b[0mlabel_name_dict\u001b[0m\u001b[0;34m[\u001b[0m\u001b[0mclass_idx\u001b[0m\u001b[0;34m]\u001b[0m\u001b[0;34m:\u001b[0m\u001b[0;34m\u001b[0m\u001b[0;34m\u001b[0m\u001b[0m\n\u001b[0;32m--> 219\u001b[0;31m                 \u001b[0;32massert\u001b[0m \u001b[0mword\u001b[0m \u001b[0;32mnot\u001b[0m \u001b[0;32min\u001b[0m \u001b[0mself\u001b[0m\u001b[0;34m.\u001b[0m\u001b[0mlabel2class\u001b[0m\u001b[0;34m,\u001b[0m \u001b[0;34mf\"\\\"{word}\\\" used as the label name by multiple classes!\"\u001b[0m\u001b[0;34m\u001b[0m\u001b[0;34m\u001b[0m\u001b[0m\n\u001b[0m\u001b[1;32m    220\u001b[0m                 \u001b[0mself\u001b[0m\u001b[0;34m.\u001b[0m\u001b[0mlabel2class\u001b[0m\u001b[0;34m[\u001b[0m\u001b[0mword\u001b[0m\u001b[0;34m]\u001b[0m \u001b[0;34m=\u001b[0m \u001b[0mclass_idx\u001b[0m\u001b[0;34m\u001b[0m\u001b[0;34m\u001b[0m\u001b[0m\n\u001b[1;32m    221\u001b[0m                 \u001b[0;32mif\u001b[0m \u001b[0mword\u001b[0m \u001b[0;32min\u001b[0m \u001b[0mself\u001b[0m\u001b[0;34m.\u001b[0m\u001b[0mvocab\u001b[0m\u001b[0;34m:\u001b[0m\u001b[0;34m\u001b[0m\u001b[0;34m\u001b[0m\u001b[0m\n",
      "\u001b[0;31mAssertionError\u001b[0m: \"é\" used as the label name by multiple classes!"
     ]
    }
   ],
   "source": [
    "model.fit(list(train_set[\"Corps\"]))"
   ]
  }
 ],
 "metadata": {
  "interpreter": {
   "hash": "7dbd43346cf4060a7c5249e62daf2cb2395365dab3b14076ef7b34680f245741"
  },
  "kernelspec": {
   "display_name": "pi_env",
   "language": "python",
   "name": "python3"
  },
  "language_info": {
   "codemirror_mode": {
    "name": "ipython",
    "version": 3
   },
   "file_extension": ".py",
   "mimetype": "text/x-python",
   "name": "python",
   "nbconvert_exporter": "python",
   "pygments_lexer": "ipython3",
   "version": "3.8.12"
  }
 },
 "nbformat": 4,
 "nbformat_minor": 5
}
